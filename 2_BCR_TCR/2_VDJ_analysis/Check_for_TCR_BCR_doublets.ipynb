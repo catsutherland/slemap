{
 "cells": [
  {
   "cell_type": "markdown",
   "id": "9965505b-5e38-46f8-b8b9-2b3b45298042",
   "metadata": {},
   "source": [
    "# Import packages and setup"
   ]
  },
  {
   "cell_type": "code",
   "execution_count": 2,
   "id": "6afc5be3-188c-4afd-998e-ffe9f33f9090",
   "metadata": {},
   "outputs": [],
   "source": [
    "%matplotlib inline\n",
    "import os\n",
    "import matplotlib as mpl\n",
    "import matplotlib.pyplot as plt\n",
    "import seaborn as sns\n",
    "import pandas as pd\n",
    "import numpy as np\n",
    "\n",
    "pd.set_option('display.max_columns', None)\n",
    "pd.set_option('display.max_rows', 400)"
   ]
  },
  {
   "cell_type": "markdown",
   "id": "5e66fc9e-3fc9-4fb6-9249-23d0361a48e0",
   "metadata": {},
   "source": [
    "# Read in IgBLAST BCR data"
   ]
  },
  {
   "cell_type": "code",
   "execution_count": 3,
   "id": "800ed208-d69f-4abc-8b0b-c1fcb14dfd2d",
   "metadata": {
    "lines_to_next_cell": 2
   },
   "outputs": [],
   "source": [
    "source_folder = \"/lustre/scratch126/opentargets/opentargets/OTAR2064/working/users/cs54/final_data/2_BCR_TCR/1_IgBLAST_assignment/IgBLAST_output_BCR\"\n",
    "\n",
    "file_list = [x for x in os.listdir(f'{source_folder}') if x.endswith('pass.tsv')]\n",
    "\n",
    "file_dfs = []\n",
    "\n",
    "for file in file_list:    \n",
    "    file_df = pd.read_csv(f'{source_folder}/{file}', sep='\\t')\n",
    "    file_df['pool'] =  file.split(\"_\")[0]\n",
    "    file_dfs.append(file_df)\n",
    "    \n",
    "bcr_df = pd.concat(file_dfs)"
   ]
  },
  {
   "cell_type": "code",
   "execution_count": 4,
   "id": "af196164-fe41-4690-8b23-25cc46d8467b",
   "metadata": {},
   "outputs": [
    {
     "data": {
      "text/plain": [
       "68"
      ]
     },
     "execution_count": 4,
     "metadata": {},
     "output_type": "execute_result"
    }
   ],
   "source": [
    "bcr_df.pool.nunique()"
   ]
  },
  {
   "cell_type": "code",
   "execution_count": 5,
   "id": "d9ccc24c-5c70-42d1-b274-2845f73b62dd",
   "metadata": {},
   "outputs": [
    {
     "data": {
      "text/plain": [
       "229108"
      ]
     },
     "execution_count": 5,
     "metadata": {},
     "output_type": "execute_result"
    }
   ],
   "source": [
    "len(bcr_df)"
   ]
  },
  {
   "cell_type": "markdown",
   "id": "7db8e7f3-78fe-4ff4-a0c1-a037000d83b8",
   "metadata": {},
   "source": [
    "# Read in sample, pool and batch info"
   ]
  },
  {
   "cell_type": "code",
   "execution_count": 6,
   "id": "aa23456f-f0cc-4289-be05-07df9c5a4784",
   "metadata": {},
   "outputs": [],
   "source": [
    "batch_info = pd.read_csv(\"/lustre/scratch126/opentargets/opentargets/OTAR2064/working/users/cs54/final_data/1_Metadata/slemap_cellranger_to_pool.txt\", sep = \"\\t\", header = None)\n",
    "batch_info.columns = [\"sample\", \"pool\", \"scSeq_batch\"]"
   ]
  },
  {
   "cell_type": "code",
   "execution_count": 7,
   "id": "e13f2902",
   "metadata": {},
   "outputs": [],
   "source": [
    "bcr_df = pd.merge(bcr_df, batch_info)"
   ]
  },
  {
   "cell_type": "code",
   "execution_count": 8,
   "id": "7a02525e",
   "metadata": {},
   "outputs": [],
   "source": [
    "bcr_df[\"contig\"] = bcr_df[\"sequence_id\"].str.split(\"_\", n = 1).str[1]\n",
    "bcr_df[\"chain\"] = np.where(bcr_df['locus'].str.contains('IGH'), \"Heavy\" , \"Light\")\n",
    "bcr_df[\"sample_cell_id\"] = bcr_df[\"sample\"] + \"_\" + bcr_df[\"cell_id\"]"
   ]
  },
  {
   "cell_type": "code",
   "execution_count": 9,
   "id": "e7e1d5e0",
   "metadata": {},
   "outputs": [],
   "source": [
    "chain_counts_bcr = bcr_df.groupby(['pool','chain'])['sample_cell_id'].agg(number_chains = \"value_counts\").reset_index()\n",
    "chain_counts_heavy = chain_counts_bcr.query(\"chain == 'Heavy'\").copy()"
   ]
  },
  {
   "cell_type": "code",
   "execution_count": 10,
   "id": "c03a70b7",
   "metadata": {},
   "outputs": [
    {
     "data": {
      "text/html": [
       "<div>\n",
       "<style scoped>\n",
       "    .dataframe tbody tr th:only-of-type {\n",
       "        vertical-align: middle;\n",
       "    }\n",
       "\n",
       "    .dataframe tbody tr th {\n",
       "        vertical-align: top;\n",
       "    }\n",
       "\n",
       "    .dataframe thead th {\n",
       "        text-align: right;\n",
       "    }\n",
       "</style>\n",
       "<table border=\"1\" class=\"dataframe\">\n",
       "  <thead>\n",
       "    <tr style=\"text-align: right;\">\n",
       "      <th></th>\n",
       "      <th>pool</th>\n",
       "      <th>chain</th>\n",
       "      <th>sample_cell_id</th>\n",
       "      <th>number_chains</th>\n",
       "    </tr>\n",
       "  </thead>\n",
       "  <tbody>\n",
       "    <tr>\n",
       "      <th>0</th>\n",
       "      <td>LDP02</td>\n",
       "      <td>Heavy</td>\n",
       "      <td>cellranger700_multi_dbbf8652dc66faa6a536508357...</td>\n",
       "      <td>2</td>\n",
       "    </tr>\n",
       "    <tr>\n",
       "      <th>1</th>\n",
       "      <td>LDP02</td>\n",
       "      <td>Heavy</td>\n",
       "      <td>cellranger700_multi_dbbf8652dc66faa6a536508357...</td>\n",
       "      <td>2</td>\n",
       "    </tr>\n",
       "    <tr>\n",
       "      <th>2</th>\n",
       "      <td>LDP02</td>\n",
       "      <td>Heavy</td>\n",
       "      <td>cellranger700_multi_dbbf8652dc66faa6a536508357...</td>\n",
       "      <td>2</td>\n",
       "    </tr>\n",
       "    <tr>\n",
       "      <th>3</th>\n",
       "      <td>LDP02</td>\n",
       "      <td>Heavy</td>\n",
       "      <td>cellranger700_multi_dbbf8652dc66faa6a536508357...</td>\n",
       "      <td>2</td>\n",
       "    </tr>\n",
       "    <tr>\n",
       "      <th>4</th>\n",
       "      <td>LDP02</td>\n",
       "      <td>Heavy</td>\n",
       "      <td>cellranger700_multi_dbbf8652dc66faa6a536508357...</td>\n",
       "      <td>2</td>\n",
       "    </tr>\n",
       "    <tr>\n",
       "      <th>...</th>\n",
       "      <td>...</td>\n",
       "      <td>...</td>\n",
       "      <td>...</td>\n",
       "      <td>...</td>\n",
       "    </tr>\n",
       "    <tr>\n",
       "      <th>221288</th>\n",
       "      <td>LDP69</td>\n",
       "      <td>Heavy</td>\n",
       "      <td>cellranger700_multi_47347f8bd01f6c23c63871b334...</td>\n",
       "      <td>1</td>\n",
       "    </tr>\n",
       "    <tr>\n",
       "      <th>221289</th>\n",
       "      <td>LDP69</td>\n",
       "      <td>Heavy</td>\n",
       "      <td>cellranger700_multi_47347f8bd01f6c23c63871b334...</td>\n",
       "      <td>1</td>\n",
       "    </tr>\n",
       "    <tr>\n",
       "      <th>221290</th>\n",
       "      <td>LDP69</td>\n",
       "      <td>Heavy</td>\n",
       "      <td>cellranger700_multi_47347f8bd01f6c23c63871b334...</td>\n",
       "      <td>1</td>\n",
       "    </tr>\n",
       "    <tr>\n",
       "      <th>221291</th>\n",
       "      <td>LDP69</td>\n",
       "      <td>Heavy</td>\n",
       "      <td>cellranger700_multi_47347f8bd01f6c23c63871b334...</td>\n",
       "      <td>1</td>\n",
       "    </tr>\n",
       "    <tr>\n",
       "      <th>221292</th>\n",
       "      <td>LDP69</td>\n",
       "      <td>Heavy</td>\n",
       "      <td>cellranger700_multi_47347f8bd01f6c23c63871b334...</td>\n",
       "      <td>1</td>\n",
       "    </tr>\n",
       "  </tbody>\n",
       "</table>\n",
       "<p>107488 rows × 4 columns</p>\n",
       "</div>"
      ],
      "text/plain": [
       "         pool  chain                                     sample_cell_id  \\\n",
       "0       LDP02  Heavy  cellranger700_multi_dbbf8652dc66faa6a536508357...   \n",
       "1       LDP02  Heavy  cellranger700_multi_dbbf8652dc66faa6a536508357...   \n",
       "2       LDP02  Heavy  cellranger700_multi_dbbf8652dc66faa6a536508357...   \n",
       "3       LDP02  Heavy  cellranger700_multi_dbbf8652dc66faa6a536508357...   \n",
       "4       LDP02  Heavy  cellranger700_multi_dbbf8652dc66faa6a536508357...   \n",
       "...       ...    ...                                                ...   \n",
       "221288  LDP69  Heavy  cellranger700_multi_47347f8bd01f6c23c63871b334...   \n",
       "221289  LDP69  Heavy  cellranger700_multi_47347f8bd01f6c23c63871b334...   \n",
       "221290  LDP69  Heavy  cellranger700_multi_47347f8bd01f6c23c63871b334...   \n",
       "221291  LDP69  Heavy  cellranger700_multi_47347f8bd01f6c23c63871b334...   \n",
       "221292  LDP69  Heavy  cellranger700_multi_47347f8bd01f6c23c63871b334...   \n",
       "\n",
       "        number_chains  \n",
       "0                   2  \n",
       "1                   2  \n",
       "2                   2  \n",
       "3                   2  \n",
       "4                   2  \n",
       "...               ...  \n",
       "221288              1  \n",
       "221289              1  \n",
       "221290              1  \n",
       "221291              1  \n",
       "221292              1  \n",
       "\n",
       "[107488 rows x 4 columns]"
      ]
     },
     "execution_count": 10,
     "metadata": {},
     "output_type": "execute_result"
    }
   ],
   "source": [
    "chain_counts_heavy"
   ]
  },
  {
   "cell_type": "code",
   "execution_count": 11,
   "id": "4c1ed670",
   "metadata": {},
   "outputs": [],
   "source": [
    "chain_counts_heavy[\"BCR_doublet\"] = np.where(chain_counts_heavy['number_chains'] == 1, \"No\" , \"Yes\")"
   ]
  },
  {
   "cell_type": "code",
   "execution_count": 12,
   "id": "e7fc5ac9",
   "metadata": {},
   "outputs": [
    {
     "data": {
      "text/html": [
       "<div>\n",
       "<style scoped>\n",
       "    .dataframe tbody tr th:only-of-type {\n",
       "        vertical-align: middle;\n",
       "    }\n",
       "\n",
       "    .dataframe tbody tr th {\n",
       "        vertical-align: top;\n",
       "    }\n",
       "\n",
       "    .dataframe thead th {\n",
       "        text-align: right;\n",
       "    }\n",
       "</style>\n",
       "<table border=\"1\" class=\"dataframe\">\n",
       "  <thead>\n",
       "    <tr style=\"text-align: right;\">\n",
       "      <th></th>\n",
       "      <th>sample_cell_id</th>\n",
       "      <th>pool</th>\n",
       "      <th>BCR_doublet</th>\n",
       "    </tr>\n",
       "  </thead>\n",
       "  <tbody>\n",
       "    <tr>\n",
       "      <th>0</th>\n",
       "      <td>cellranger700_multi_dbbf8652dc66faa6a536508357...</td>\n",
       "      <td>LDP02</td>\n",
       "      <td>Yes</td>\n",
       "    </tr>\n",
       "    <tr>\n",
       "      <th>1</th>\n",
       "      <td>cellranger700_multi_dbbf8652dc66faa6a536508357...</td>\n",
       "      <td>LDP02</td>\n",
       "      <td>Yes</td>\n",
       "    </tr>\n",
       "    <tr>\n",
       "      <th>2</th>\n",
       "      <td>cellranger700_multi_dbbf8652dc66faa6a536508357...</td>\n",
       "      <td>LDP02</td>\n",
       "      <td>Yes</td>\n",
       "    </tr>\n",
       "    <tr>\n",
       "      <th>3</th>\n",
       "      <td>cellranger700_multi_dbbf8652dc66faa6a536508357...</td>\n",
       "      <td>LDP02</td>\n",
       "      <td>Yes</td>\n",
       "    </tr>\n",
       "    <tr>\n",
       "      <th>4</th>\n",
       "      <td>cellranger700_multi_dbbf8652dc66faa6a536508357...</td>\n",
       "      <td>LDP02</td>\n",
       "      <td>Yes</td>\n",
       "    </tr>\n",
       "    <tr>\n",
       "      <th>...</th>\n",
       "      <td>...</td>\n",
       "      <td>...</td>\n",
       "      <td>...</td>\n",
       "    </tr>\n",
       "    <tr>\n",
       "      <th>221288</th>\n",
       "      <td>cellranger700_multi_47347f8bd01f6c23c63871b334...</td>\n",
       "      <td>LDP69</td>\n",
       "      <td>No</td>\n",
       "    </tr>\n",
       "    <tr>\n",
       "      <th>221289</th>\n",
       "      <td>cellranger700_multi_47347f8bd01f6c23c63871b334...</td>\n",
       "      <td>LDP69</td>\n",
       "      <td>No</td>\n",
       "    </tr>\n",
       "    <tr>\n",
       "      <th>221290</th>\n",
       "      <td>cellranger700_multi_47347f8bd01f6c23c63871b334...</td>\n",
       "      <td>LDP69</td>\n",
       "      <td>No</td>\n",
       "    </tr>\n",
       "    <tr>\n",
       "      <th>221291</th>\n",
       "      <td>cellranger700_multi_47347f8bd01f6c23c63871b334...</td>\n",
       "      <td>LDP69</td>\n",
       "      <td>No</td>\n",
       "    </tr>\n",
       "    <tr>\n",
       "      <th>221292</th>\n",
       "      <td>cellranger700_multi_47347f8bd01f6c23c63871b334...</td>\n",
       "      <td>LDP69</td>\n",
       "      <td>No</td>\n",
       "    </tr>\n",
       "  </tbody>\n",
       "</table>\n",
       "<p>107488 rows × 3 columns</p>\n",
       "</div>"
      ],
      "text/plain": [
       "                                           sample_cell_id   pool BCR_doublet\n",
       "0       cellranger700_multi_dbbf8652dc66faa6a536508357...  LDP02         Yes\n",
       "1       cellranger700_multi_dbbf8652dc66faa6a536508357...  LDP02         Yes\n",
       "2       cellranger700_multi_dbbf8652dc66faa6a536508357...  LDP02         Yes\n",
       "3       cellranger700_multi_dbbf8652dc66faa6a536508357...  LDP02         Yes\n",
       "4       cellranger700_multi_dbbf8652dc66faa6a536508357...  LDP02         Yes\n",
       "...                                                   ...    ...         ...\n",
       "221288  cellranger700_multi_47347f8bd01f6c23c63871b334...  LDP69          No\n",
       "221289  cellranger700_multi_47347f8bd01f6c23c63871b334...  LDP69          No\n",
       "221290  cellranger700_multi_47347f8bd01f6c23c63871b334...  LDP69          No\n",
       "221291  cellranger700_multi_47347f8bd01f6c23c63871b334...  LDP69          No\n",
       "221292  cellranger700_multi_47347f8bd01f6c23c63871b334...  LDP69          No\n",
       "\n",
       "[107488 rows x 3 columns]"
      ]
     },
     "execution_count": 12,
     "metadata": {},
     "output_type": "execute_result"
    }
   ],
   "source": [
    "chain_counts_heavy[[\"sample_cell_id\", \"pool\", \"BCR_doublet\"]]"
   ]
  },
  {
   "cell_type": "code",
   "execution_count": 13,
   "id": "ede7f7b9",
   "metadata": {},
   "outputs": [],
   "source": [
    "chain_counts_heavy[\"barcode\"] = chain_counts_heavy[\"sample_cell_id\"].str.rsplit(\"_\", n=1).str[1]\n",
    "\n",
    "chain_counts_heavy.to_csv(\"/lustre/scratch126/opentargets/opentargets/OTAR2064/working/users/cs54/final_data/2_BCR_TCR/1_IgBLAST_assignment/bcr_doublet_barcodes.csv\", index = False)"
   ]
  },
  {
   "cell_type": "code",
   "execution_count": 14,
   "id": "2c38812d",
   "metadata": {},
   "outputs": [
    {
     "data": {
      "text/plain": [
       "BCR_doublet\n",
       "No     105952\n",
       "Yes      1536\n",
       "Name: count, dtype: int64"
      ]
     },
     "execution_count": 14,
     "metadata": {},
     "output_type": "execute_result"
    }
   ],
   "source": [
    "chain_counts_heavy.BCR_doublet.value_counts()"
   ]
  },
  {
   "cell_type": "code",
   "execution_count": 15,
   "id": "08b2790e",
   "metadata": {},
   "outputs": [],
   "source": [
    "has_single_bcr = chain_counts_heavy.query(\"number_chains == 1\").copy()\n",
    "has_single_bcr[\"VDJ\"] = \"BCR\""
   ]
  },
  {
   "cell_type": "markdown",
   "id": "b6bebbbd",
   "metadata": {},
   "source": [
    "# Read in IgBLAST TCR data"
   ]
  },
  {
   "cell_type": "code",
   "execution_count": 16,
   "id": "8cf9cdf9",
   "metadata": {
    "lines_to_next_cell": 2
   },
   "outputs": [],
   "source": [
    "source_folder = \"/lustre/scratch126/opentargets/opentargets/OTAR2064/working/users/cs54/final_data/2_BCR_TCR/1_IgBLAST_assignment/IgBLAST_output_TCR\"\n",
    "\n",
    "file_list = [x for x in os.listdir(f'{source_folder}') if x.endswith('pass.tsv')]\n",
    "\n",
    "file_dfs = []\n",
    "\n",
    "for file in file_list:    \n",
    "    file_df = pd.read_csv(f'{source_folder}/{file}', sep='\\t')\n",
    "    file_df['pool'] =  file.split(\"_\")[0]\n",
    "    file_dfs.append(file_df)\n",
    "    \n",
    "tcr_df = pd.concat(file_dfs)"
   ]
  },
  {
   "cell_type": "code",
   "execution_count": 17,
   "id": "f278634d",
   "metadata": {},
   "outputs": [
    {
     "data": {
      "text/plain": [
       "69"
      ]
     },
     "execution_count": 17,
     "metadata": {},
     "output_type": "execute_result"
    }
   ],
   "source": [
    "tcr_df.pool.nunique()"
   ]
  },
  {
   "cell_type": "code",
   "execution_count": 18,
   "id": "e7473574",
   "metadata": {},
   "outputs": [
    {
     "data": {
      "text/plain": [
       "1177627"
      ]
     },
     "execution_count": 18,
     "metadata": {},
     "output_type": "execute_result"
    }
   ],
   "source": [
    "len(tcr_df)"
   ]
  },
  {
   "cell_type": "markdown",
   "id": "99311a04",
   "metadata": {},
   "source": [
    "# Read in sample, pool and batch info"
   ]
  },
  {
   "cell_type": "code",
   "execution_count": 19,
   "id": "fd9f17fd",
   "metadata": {},
   "outputs": [],
   "source": [
    "tcr_df = pd.merge(tcr_df, batch_info)"
   ]
  },
  {
   "cell_type": "code",
   "execution_count": 20,
   "id": "32b50658",
   "metadata": {},
   "outputs": [],
   "source": [
    "tcr_df[\"contig\"] = tcr_df[\"sequence_id\"].str.split(\"_\", n = 1).str[1]\n",
    "tcr_df[\"chain\"] = np.where(tcr_df['locus'].str.contains('TRB'), \"Beta\" , \"Alpha\")\n",
    "tcr_df[\"sample_cell_id\"] = tcr_df[\"sample\"] + \"_\" + tcr_df[\"cell_id\"]"
   ]
  },
  {
   "cell_type": "code",
   "execution_count": 21,
   "id": "79afed6e",
   "metadata": {},
   "outputs": [
    {
     "data": {
      "text/plain": [
       "locus\n",
       "TRB    629316\n",
       "TRA    548311\n",
       "Name: count, dtype: int64"
      ]
     },
     "execution_count": 21,
     "metadata": {},
     "output_type": "execute_result"
    }
   ],
   "source": [
    "tcr_df.locus.value_counts()"
   ]
  },
  {
   "cell_type": "code",
   "execution_count": 22,
   "id": "a599235b",
   "metadata": {},
   "outputs": [
    {
     "data": {
      "text/plain": [
       "chain\n",
       "Beta     629316\n",
       "Alpha    548311\n",
       "Name: count, dtype: int64"
      ]
     },
     "execution_count": 22,
     "metadata": {},
     "output_type": "execute_result"
    }
   ],
   "source": [
    "tcr_df.chain.value_counts()"
   ]
  },
  {
   "cell_type": "code",
   "execution_count": 23,
   "id": "479187f2",
   "metadata": {},
   "outputs": [],
   "source": [
    "chain_counts_tcr = tcr_df.groupby(['pool', 'chain'])['sample_cell_id'].agg(number_chains = \"value_counts\").reset_index()\n",
    "chain_counts_beta = chain_counts_tcr.query(\"chain == 'Beta'\").copy()"
   ]
  },
  {
   "cell_type": "code",
   "execution_count": 24,
   "id": "bee36279",
   "metadata": {},
   "outputs": [],
   "source": [
    "chain_counts_beta[\"tcr_doublet\"] = np.where(chain_counts_beta['number_chains'] == 1, \"No\" , \"Yes\")"
   ]
  },
  {
   "cell_type": "code",
   "execution_count": 25,
   "id": "b32ad673",
   "metadata": {},
   "outputs": [
    {
     "data": {
      "text/html": [
       "<div>\n",
       "<style scoped>\n",
       "    .dataframe tbody tr th:only-of-type {\n",
       "        vertical-align: middle;\n",
       "    }\n",
       "\n",
       "    .dataframe tbody tr th {\n",
       "        vertical-align: top;\n",
       "    }\n",
       "\n",
       "    .dataframe thead th {\n",
       "        text-align: right;\n",
       "    }\n",
       "</style>\n",
       "<table border=\"1\" class=\"dataframe\">\n",
       "  <thead>\n",
       "    <tr style=\"text-align: right;\">\n",
       "      <th></th>\n",
       "      <th>sample_cell_id</th>\n",
       "      <th>pool</th>\n",
       "      <th>tcr_doublet</th>\n",
       "    </tr>\n",
       "  </thead>\n",
       "  <tbody>\n",
       "    <tr>\n",
       "      <th>2708</th>\n",
       "      <td>cellranger700_multi_21212877c397b6975eaf35c723...</td>\n",
       "      <td>LDP01</td>\n",
       "      <td>Yes</td>\n",
       "    </tr>\n",
       "    <tr>\n",
       "      <th>2709</th>\n",
       "      <td>cellranger700_multi_21212877c397b6975eaf35c723...</td>\n",
       "      <td>LDP01</td>\n",
       "      <td>Yes</td>\n",
       "    </tr>\n",
       "    <tr>\n",
       "      <th>2710</th>\n",
       "      <td>cellranger700_multi_21212877c397b6975eaf35c723...</td>\n",
       "      <td>LDP01</td>\n",
       "      <td>Yes</td>\n",
       "    </tr>\n",
       "    <tr>\n",
       "      <th>2711</th>\n",
       "      <td>cellranger700_multi_21212877c397b6975eaf35c723...</td>\n",
       "      <td>LDP01</td>\n",
       "      <td>Yes</td>\n",
       "    </tr>\n",
       "    <tr>\n",
       "      <th>2712</th>\n",
       "      <td>cellranger700_multi_21212877c397b6975eaf35c723...</td>\n",
       "      <td>LDP01</td>\n",
       "      <td>Yes</td>\n",
       "    </tr>\n",
       "    <tr>\n",
       "      <th>...</th>\n",
       "      <td>...</td>\n",
       "      <td>...</td>\n",
       "      <td>...</td>\n",
       "    </tr>\n",
       "    <tr>\n",
       "      <th>1091760</th>\n",
       "      <td>cellranger700_multi_47347f8bd01f6c23c63871b334...</td>\n",
       "      <td>LDP69</td>\n",
       "      <td>No</td>\n",
       "    </tr>\n",
       "    <tr>\n",
       "      <th>1091761</th>\n",
       "      <td>cellranger700_multi_47347f8bd01f6c23c63871b334...</td>\n",
       "      <td>LDP69</td>\n",
       "      <td>No</td>\n",
       "    </tr>\n",
       "    <tr>\n",
       "      <th>1091762</th>\n",
       "      <td>cellranger700_multi_47347f8bd01f6c23c63871b334...</td>\n",
       "      <td>LDP69</td>\n",
       "      <td>No</td>\n",
       "    </tr>\n",
       "    <tr>\n",
       "      <th>1091763</th>\n",
       "      <td>cellranger700_multi_47347f8bd01f6c23c63871b334...</td>\n",
       "      <td>LDP69</td>\n",
       "      <td>No</td>\n",
       "    </tr>\n",
       "    <tr>\n",
       "      <th>1091764</th>\n",
       "      <td>cellranger700_multi_47347f8bd01f6c23c63871b334...</td>\n",
       "      <td>LDP69</td>\n",
       "      <td>No</td>\n",
       "    </tr>\n",
       "  </tbody>\n",
       "</table>\n",
       "<p>594647 rows × 3 columns</p>\n",
       "</div>"
      ],
      "text/plain": [
       "                                            sample_cell_id   pool tcr_doublet\n",
       "2708     cellranger700_multi_21212877c397b6975eaf35c723...  LDP01         Yes\n",
       "2709     cellranger700_multi_21212877c397b6975eaf35c723...  LDP01         Yes\n",
       "2710     cellranger700_multi_21212877c397b6975eaf35c723...  LDP01         Yes\n",
       "2711     cellranger700_multi_21212877c397b6975eaf35c723...  LDP01         Yes\n",
       "2712     cellranger700_multi_21212877c397b6975eaf35c723...  LDP01         Yes\n",
       "...                                                    ...    ...         ...\n",
       "1091760  cellranger700_multi_47347f8bd01f6c23c63871b334...  LDP69          No\n",
       "1091761  cellranger700_multi_47347f8bd01f6c23c63871b334...  LDP69          No\n",
       "1091762  cellranger700_multi_47347f8bd01f6c23c63871b334...  LDP69          No\n",
       "1091763  cellranger700_multi_47347f8bd01f6c23c63871b334...  LDP69          No\n",
       "1091764  cellranger700_multi_47347f8bd01f6c23c63871b334...  LDP69          No\n",
       "\n",
       "[594647 rows x 3 columns]"
      ]
     },
     "execution_count": 25,
     "metadata": {},
     "output_type": "execute_result"
    }
   ],
   "source": [
    "chain_counts_beta[[\"sample_cell_id\", \"pool\", \"tcr_doublet\"]]"
   ]
  },
  {
   "cell_type": "code",
   "execution_count": 26,
   "id": "f5225ee0",
   "metadata": {},
   "outputs": [
    {
     "data": {
      "text/plain": [
       "tcr_doublet\n",
       "No     559978\n",
       "Yes     34669\n",
       "Name: count, dtype: int64"
      ]
     },
     "execution_count": 26,
     "metadata": {},
     "output_type": "execute_result"
    }
   ],
   "source": [
    "chain_counts_beta.tcr_doublet.value_counts()"
   ]
  },
  {
   "cell_type": "code",
   "execution_count": 27,
   "id": "12276827",
   "metadata": {},
   "outputs": [],
   "source": [
    "chain_counts_beta[\"barcode\"] = chain_counts_beta[\"sample_cell_id\"].str.rsplit(\"_\", n=1).str[1]"
   ]
  },
  {
   "cell_type": "code",
   "execution_count": 28,
   "id": "e1572f6b",
   "metadata": {},
   "outputs": [],
   "source": [
    "chain_counts_beta.to_csv(\"/lustre/scratch126/opentargets/opentargets/OTAR2064/working/users/cs54/final_data/2_BCR_TCR/1_IgBLAST_assignment/tcr_doublet_barcodes.csv\", index = False)"
   ]
  },
  {
   "cell_type": "code",
   "execution_count": 29,
   "id": "94fadf0f",
   "metadata": {},
   "outputs": [],
   "source": [
    "has_single_tcr = chain_counts_beta.query(\"number_chains == 1\").copy()\n",
    "has_single_tcr[\"VDJ\"] = \"TCR\""
   ]
  },
  {
   "cell_type": "markdown",
   "id": "ec6df4eb",
   "metadata": {},
   "source": [
    "# Get TCR/BCR doublets"
   ]
  },
  {
   "cell_type": "code",
   "execution_count": 30,
   "id": "37034dfb",
   "metadata": {},
   "outputs": [],
   "source": [
    "has_trb = list(chain_counts_beta.sample_cell_id)"
   ]
  },
  {
   "cell_type": "code",
   "execution_count": 31,
   "id": "95bf9a8d",
   "metadata": {},
   "outputs": [],
   "source": [
    "has_igh = list(chain_counts_heavy.sample_cell_id)"
   ]
  },
  {
   "cell_type": "code",
   "execution_count": 32,
   "id": "2ee24d13",
   "metadata": {},
   "outputs": [
    {
     "data": {
      "text/plain": [
       "15262"
      ]
     },
     "execution_count": 32,
     "metadata": {},
     "output_type": "execute_result"
    }
   ],
   "source": [
    "len(list(set(has_trb) & set(has_igh)))"
   ]
  },
  {
   "cell_type": "code",
   "execution_count": 33,
   "id": "2efd9c82",
   "metadata": {},
   "outputs": [],
   "source": [
    "tcr_bcr_doublet = pd.DataFrame(list(set(has_trb) & set(has_igh)))"
   ]
  },
  {
   "cell_type": "code",
   "execution_count": 34,
   "id": "c02a0a45",
   "metadata": {},
   "outputs": [],
   "source": [
    "tcr_bcr_doublet = tcr_bcr_doublet.rename({0:\"sample_cell_id\"}, axis = 1)"
   ]
  },
  {
   "cell_type": "code",
   "execution_count": 35,
   "id": "d8a4a851",
   "metadata": {},
   "outputs": [],
   "source": [
    "tcr_bcr_doublet[\"sample\"] = tcr_bcr_doublet[\"sample_cell_id\"].str.rsplit(\"_\", n=1).str[0]\n",
    "tcr_bcr_doublet[\"barcode\"] = tcr_bcr_doublet[\"sample_cell_id\"].str.rsplit(\"_\", n=1).str[1]"
   ]
  },
  {
   "cell_type": "code",
   "execution_count": 36,
   "id": "c22af89f",
   "metadata": {},
   "outputs": [],
   "source": [
    "tcr_bcr_doublet = pd.merge(tcr_bcr_doublet, batch_info)"
   ]
  },
  {
   "cell_type": "code",
   "execution_count": 37,
   "id": "2fc21051",
   "metadata": {},
   "outputs": [],
   "source": [
    "tcr_bcr_doublet.to_csv(\"/lustre/scratch126/opentargets/opentargets/OTAR2064/working/users/cs54/final_data/2_BCR_TCR/1_IgBLAST_assignment/tcr_bcr_doublet_barcodes.csv\", index = False)"
   ]
  },
  {
   "cell_type": "code",
   "execution_count": 38,
   "id": "4954586b",
   "metadata": {},
   "outputs": [
    {
     "data": {
      "text/html": [
       "<div>\n",
       "<style scoped>\n",
       "    .dataframe tbody tr th:only-of-type {\n",
       "        vertical-align: middle;\n",
       "    }\n",
       "\n",
       "    .dataframe tbody tr th {\n",
       "        vertical-align: top;\n",
       "    }\n",
       "\n",
       "    .dataframe thead th {\n",
       "        text-align: right;\n",
       "    }\n",
       "</style>\n",
       "<table border=\"1\" class=\"dataframe\">\n",
       "  <thead>\n",
       "    <tr style=\"text-align: right;\">\n",
       "      <th></th>\n",
       "      <th>sample_cell_id</th>\n",
       "      <th>sample</th>\n",
       "      <th>barcode</th>\n",
       "      <th>pool</th>\n",
       "      <th>scSeq_batch</th>\n",
       "    </tr>\n",
       "  </thead>\n",
       "  <tbody>\n",
       "    <tr>\n",
       "      <th>0</th>\n",
       "      <td>cellranger700_multi_4aa86417eee207b8497d71521f...</td>\n",
       "      <td>cellranger700_multi_4aa86417eee207b8497d71521f...</td>\n",
       "      <td>CAGAGAGAGGGCACTA-1</td>\n",
       "      <td>LDP13</td>\n",
       "      <td>3</td>\n",
       "    </tr>\n",
       "    <tr>\n",
       "      <th>1</th>\n",
       "      <td>cellranger700_multi_51aaa01a9a405602a00f159c1d...</td>\n",
       "      <td>cellranger700_multi_51aaa01a9a405602a00f159c1d...</td>\n",
       "      <td>CATATGGAGATCGATA-1</td>\n",
       "      <td>LDP44</td>\n",
       "      <td>6</td>\n",
       "    </tr>\n",
       "    <tr>\n",
       "      <th>2</th>\n",
       "      <td>cellranger700_multi_850906bde9153135a2abd77d02...</td>\n",
       "      <td>cellranger700_multi_850906bde9153135a2abd77d02...</td>\n",
       "      <td>ACTTACTGTACCCAAT-1</td>\n",
       "      <td>LDP27</td>\n",
       "      <td>5</td>\n",
       "    </tr>\n",
       "    <tr>\n",
       "      <th>3</th>\n",
       "      <td>cellranger700_multi_c9d76f90bbd437718946517c9e...</td>\n",
       "      <td>cellranger700_multi_c9d76f90bbd437718946517c9e...</td>\n",
       "      <td>CTAGAGTGTTGATTCG-1</td>\n",
       "      <td>LDP17</td>\n",
       "      <td>4</td>\n",
       "    </tr>\n",
       "    <tr>\n",
       "      <th>4</th>\n",
       "      <td>cellranger700_multi_46a979d5d5e827d4e8f0b90b33...</td>\n",
       "      <td>cellranger700_multi_46a979d5d5e827d4e8f0b90b33...</td>\n",
       "      <td>TCAGATGGTTCCGTCT-1</td>\n",
       "      <td>LDP42</td>\n",
       "      <td>6</td>\n",
       "    </tr>\n",
       "    <tr>\n",
       "      <th>...</th>\n",
       "      <td>...</td>\n",
       "      <td>...</td>\n",
       "      <td>...</td>\n",
       "      <td>...</td>\n",
       "      <td>...</td>\n",
       "    </tr>\n",
       "    <tr>\n",
       "      <th>15257</th>\n",
       "      <td>cellranger700_multi_0f2e6fd46960ceef6a6023494e...</td>\n",
       "      <td>cellranger700_multi_0f2e6fd46960ceef6a6023494e...</td>\n",
       "      <td>GCAATCAAGCTGAACG-1</td>\n",
       "      <td>LDP21</td>\n",
       "      <td>4</td>\n",
       "    </tr>\n",
       "    <tr>\n",
       "      <th>15258</th>\n",
       "      <td>cellranger700_multi_800e1312938cc9ab17a0dec453...</td>\n",
       "      <td>cellranger700_multi_800e1312938cc9ab17a0dec453...</td>\n",
       "      <td>TGATTTCAGCTTTGGT-1</td>\n",
       "      <td>LDP40</td>\n",
       "      <td>6</td>\n",
       "    </tr>\n",
       "    <tr>\n",
       "      <th>15259</th>\n",
       "      <td>cellranger700_multi_47347f8bd01f6c23c63871b334...</td>\n",
       "      <td>cellranger700_multi_47347f8bd01f6c23c63871b334...</td>\n",
       "      <td>ACAGCCGGTCCTGCTT-1</td>\n",
       "      <td>LDP69</td>\n",
       "      <td>10</td>\n",
       "    </tr>\n",
       "    <tr>\n",
       "      <th>15260</th>\n",
       "      <td>cellranger700_multi_d00ddfc9ace09586f1ac108fca...</td>\n",
       "      <td>cellranger700_multi_d00ddfc9ace09586f1ac108fca...</td>\n",
       "      <td>GAAGCAGCAAATCCGT-1</td>\n",
       "      <td>LDP25</td>\n",
       "      <td>5</td>\n",
       "    </tr>\n",
       "    <tr>\n",
       "      <th>15261</th>\n",
       "      <td>cellranger700_multi_ea4a44e189015a855d88d8c6eb...</td>\n",
       "      <td>cellranger700_multi_ea4a44e189015a855d88d8c6eb...</td>\n",
       "      <td>TTAGGACCAATCGAAA-1</td>\n",
       "      <td>LDP55</td>\n",
       "      <td>9</td>\n",
       "    </tr>\n",
       "  </tbody>\n",
       "</table>\n",
       "<p>15262 rows × 5 columns</p>\n",
       "</div>"
      ],
      "text/plain": [
       "                                          sample_cell_id  \\\n",
       "0      cellranger700_multi_4aa86417eee207b8497d71521f...   \n",
       "1      cellranger700_multi_51aaa01a9a405602a00f159c1d...   \n",
       "2      cellranger700_multi_850906bde9153135a2abd77d02...   \n",
       "3      cellranger700_multi_c9d76f90bbd437718946517c9e...   \n",
       "4      cellranger700_multi_46a979d5d5e827d4e8f0b90b33...   \n",
       "...                                                  ...   \n",
       "15257  cellranger700_multi_0f2e6fd46960ceef6a6023494e...   \n",
       "15258  cellranger700_multi_800e1312938cc9ab17a0dec453...   \n",
       "15259  cellranger700_multi_47347f8bd01f6c23c63871b334...   \n",
       "15260  cellranger700_multi_d00ddfc9ace09586f1ac108fca...   \n",
       "15261  cellranger700_multi_ea4a44e189015a855d88d8c6eb...   \n",
       "\n",
       "                                                  sample             barcode  \\\n",
       "0      cellranger700_multi_4aa86417eee207b8497d71521f...  CAGAGAGAGGGCACTA-1   \n",
       "1      cellranger700_multi_51aaa01a9a405602a00f159c1d...  CATATGGAGATCGATA-1   \n",
       "2      cellranger700_multi_850906bde9153135a2abd77d02...  ACTTACTGTACCCAAT-1   \n",
       "3      cellranger700_multi_c9d76f90bbd437718946517c9e...  CTAGAGTGTTGATTCG-1   \n",
       "4      cellranger700_multi_46a979d5d5e827d4e8f0b90b33...  TCAGATGGTTCCGTCT-1   \n",
       "...                                                  ...                 ...   \n",
       "15257  cellranger700_multi_0f2e6fd46960ceef6a6023494e...  GCAATCAAGCTGAACG-1   \n",
       "15258  cellranger700_multi_800e1312938cc9ab17a0dec453...  TGATTTCAGCTTTGGT-1   \n",
       "15259  cellranger700_multi_47347f8bd01f6c23c63871b334...  ACAGCCGGTCCTGCTT-1   \n",
       "15260  cellranger700_multi_d00ddfc9ace09586f1ac108fca...  GAAGCAGCAAATCCGT-1   \n",
       "15261  cellranger700_multi_ea4a44e189015a855d88d8c6eb...  TTAGGACCAATCGAAA-1   \n",
       "\n",
       "        pool  scSeq_batch  \n",
       "0      LDP13            3  \n",
       "1      LDP44            6  \n",
       "2      LDP27            5  \n",
       "3      LDP17            4  \n",
       "4      LDP42            6  \n",
       "...      ...          ...  \n",
       "15257  LDP21            4  \n",
       "15258  LDP40            6  \n",
       "15259  LDP69           10  \n",
       "15260  LDP25            5  \n",
       "15261  LDP55            9  \n",
       "\n",
       "[15262 rows x 5 columns]"
      ]
     },
     "execution_count": 38,
     "metadata": {},
     "output_type": "execute_result"
    }
   ],
   "source": [
    "tcr_bcr_doublet"
   ]
  },
  {
   "cell_type": "markdown",
   "id": "f4b56136",
   "metadata": {},
   "source": [
    "# Get cells with a single heavy or beta chain\n",
    "Not checking for paired receptors yet"
   ]
  },
  {
   "cell_type": "code",
   "execution_count": 39,
   "id": "09b93d39",
   "metadata": {},
   "outputs": [
    {
     "data": {
      "text/html": [
       "<div>\n",
       "<style scoped>\n",
       "    .dataframe tbody tr th:only-of-type {\n",
       "        vertical-align: middle;\n",
       "    }\n",
       "\n",
       "    .dataframe tbody tr th {\n",
       "        vertical-align: top;\n",
       "    }\n",
       "\n",
       "    .dataframe thead th {\n",
       "        text-align: right;\n",
       "    }\n",
       "</style>\n",
       "<table border=\"1\" class=\"dataframe\">\n",
       "  <thead>\n",
       "    <tr style=\"text-align: right;\">\n",
       "      <th></th>\n",
       "      <th>pool</th>\n",
       "      <th>chain</th>\n",
       "      <th>sample_cell_id</th>\n",
       "      <th>number_chains</th>\n",
       "      <th>barcode</th>\n",
       "      <th>VDJ</th>\n",
       "    </tr>\n",
       "  </thead>\n",
       "  <tbody>\n",
       "    <tr>\n",
       "      <th>2956</th>\n",
       "      <td>LDP01</td>\n",
       "      <td>Beta</td>\n",
       "      <td>cellranger700_multi_21212877c397b6975eaf35c723...</td>\n",
       "      <td>1</td>\n",
       "      <td>AAACCTGAGATGTGTA-1</td>\n",
       "      <td>TCR</td>\n",
       "    </tr>\n",
       "    <tr>\n",
       "      <th>2957</th>\n",
       "      <td>LDP01</td>\n",
       "      <td>Beta</td>\n",
       "      <td>cellranger700_multi_21212877c397b6975eaf35c723...</td>\n",
       "      <td>1</td>\n",
       "      <td>AAACCTGCACCGGAAA-1</td>\n",
       "      <td>TCR</td>\n",
       "    </tr>\n",
       "    <tr>\n",
       "      <th>2958</th>\n",
       "      <td>LDP01</td>\n",
       "      <td>Beta</td>\n",
       "      <td>cellranger700_multi_21212877c397b6975eaf35c723...</td>\n",
       "      <td>1</td>\n",
       "      <td>AAACCTGGTTACGGAG-1</td>\n",
       "      <td>TCR</td>\n",
       "    </tr>\n",
       "    <tr>\n",
       "      <th>2959</th>\n",
       "      <td>LDP01</td>\n",
       "      <td>Beta</td>\n",
       "      <td>cellranger700_multi_21212877c397b6975eaf35c723...</td>\n",
       "      <td>1</td>\n",
       "      <td>AAACCTGTCCTAAGTG-1</td>\n",
       "      <td>TCR</td>\n",
       "    </tr>\n",
       "    <tr>\n",
       "      <th>2960</th>\n",
       "      <td>LDP01</td>\n",
       "      <td>Beta</td>\n",
       "      <td>cellranger700_multi_21212877c397b6975eaf35c723...</td>\n",
       "      <td>1</td>\n",
       "      <td>AAACCTGTCCTCATTA-1</td>\n",
       "      <td>TCR</td>\n",
       "    </tr>\n",
       "    <tr>\n",
       "      <th>...</th>\n",
       "      <td>...</td>\n",
       "      <td>...</td>\n",
       "      <td>...</td>\n",
       "      <td>...</td>\n",
       "      <td>...</td>\n",
       "      <td>...</td>\n",
       "    </tr>\n",
       "    <tr>\n",
       "      <th>1091760</th>\n",
       "      <td>LDP69</td>\n",
       "      <td>Beta</td>\n",
       "      <td>cellranger700_multi_47347f8bd01f6c23c63871b334...</td>\n",
       "      <td>1</td>\n",
       "      <td>TTTGTCAGTTTAGCTG-1</td>\n",
       "      <td>TCR</td>\n",
       "    </tr>\n",
       "    <tr>\n",
       "      <th>1091761</th>\n",
       "      <td>LDP69</td>\n",
       "      <td>Beta</td>\n",
       "      <td>cellranger700_multi_47347f8bd01f6c23c63871b334...</td>\n",
       "      <td>1</td>\n",
       "      <td>TTTGTCATCGCAAACT-1</td>\n",
       "      <td>TCR</td>\n",
       "    </tr>\n",
       "    <tr>\n",
       "      <th>1091762</th>\n",
       "      <td>LDP69</td>\n",
       "      <td>Beta</td>\n",
       "      <td>cellranger700_multi_47347f8bd01f6c23c63871b334...</td>\n",
       "      <td>1</td>\n",
       "      <td>TTTGTCATCTCGTTTA-1</td>\n",
       "      <td>TCR</td>\n",
       "    </tr>\n",
       "    <tr>\n",
       "      <th>1091763</th>\n",
       "      <td>LDP69</td>\n",
       "      <td>Beta</td>\n",
       "      <td>cellranger700_multi_47347f8bd01f6c23c63871b334...</td>\n",
       "      <td>1</td>\n",
       "      <td>TTTGTCATCTTAGCCC-1</td>\n",
       "      <td>TCR</td>\n",
       "    </tr>\n",
       "    <tr>\n",
       "      <th>1091764</th>\n",
       "      <td>LDP69</td>\n",
       "      <td>Beta</td>\n",
       "      <td>cellranger700_multi_47347f8bd01f6c23c63871b334...</td>\n",
       "      <td>1</td>\n",
       "      <td>TTTGTCATCTTCGGTC-1</td>\n",
       "      <td>TCR</td>\n",
       "    </tr>\n",
       "  </tbody>\n",
       "</table>\n",
       "<p>559978 rows × 6 columns</p>\n",
       "</div>"
      ],
      "text/plain": [
       "          pool chain                                     sample_cell_id  \\\n",
       "2956     LDP01  Beta  cellranger700_multi_21212877c397b6975eaf35c723...   \n",
       "2957     LDP01  Beta  cellranger700_multi_21212877c397b6975eaf35c723...   \n",
       "2958     LDP01  Beta  cellranger700_multi_21212877c397b6975eaf35c723...   \n",
       "2959     LDP01  Beta  cellranger700_multi_21212877c397b6975eaf35c723...   \n",
       "2960     LDP01  Beta  cellranger700_multi_21212877c397b6975eaf35c723...   \n",
       "...        ...   ...                                                ...   \n",
       "1091760  LDP69  Beta  cellranger700_multi_47347f8bd01f6c23c63871b334...   \n",
       "1091761  LDP69  Beta  cellranger700_multi_47347f8bd01f6c23c63871b334...   \n",
       "1091762  LDP69  Beta  cellranger700_multi_47347f8bd01f6c23c63871b334...   \n",
       "1091763  LDP69  Beta  cellranger700_multi_47347f8bd01f6c23c63871b334...   \n",
       "1091764  LDP69  Beta  cellranger700_multi_47347f8bd01f6c23c63871b334...   \n",
       "\n",
       "         number_chains             barcode  VDJ  \n",
       "2956                 1  AAACCTGAGATGTGTA-1  TCR  \n",
       "2957                 1  AAACCTGCACCGGAAA-1  TCR  \n",
       "2958                 1  AAACCTGGTTACGGAG-1  TCR  \n",
       "2959                 1  AAACCTGTCCTAAGTG-1  TCR  \n",
       "2960                 1  AAACCTGTCCTCATTA-1  TCR  \n",
       "...                ...                 ...  ...  \n",
       "1091760              1  TTTGTCAGTTTAGCTG-1  TCR  \n",
       "1091761              1  TTTGTCATCGCAAACT-1  TCR  \n",
       "1091762              1  TTTGTCATCTCGTTTA-1  TCR  \n",
       "1091763              1  TTTGTCATCTTAGCCC-1  TCR  \n",
       "1091764              1  TTTGTCATCTTCGGTC-1  TCR  \n",
       "\n",
       "[559978 rows x 6 columns]"
      ]
     },
     "execution_count": 39,
     "metadata": {},
     "output_type": "execute_result"
    }
   ],
   "source": [
    "has_single_tcr = has_single_tcr.drop(\"tcr_doublet\",  axis =1)\n",
    "has_single_tcr"
   ]
  },
  {
   "cell_type": "code",
   "execution_count": 40,
   "id": "092a65b4",
   "metadata": {},
   "outputs": [
    {
     "data": {
      "text/html": [
       "<div>\n",
       "<style scoped>\n",
       "    .dataframe tbody tr th:only-of-type {\n",
       "        vertical-align: middle;\n",
       "    }\n",
       "\n",
       "    .dataframe tbody tr th {\n",
       "        vertical-align: top;\n",
       "    }\n",
       "\n",
       "    .dataframe thead th {\n",
       "        text-align: right;\n",
       "    }\n",
       "</style>\n",
       "<table border=\"1\" class=\"dataframe\">\n",
       "  <thead>\n",
       "    <tr style=\"text-align: right;\">\n",
       "      <th></th>\n",
       "      <th>pool</th>\n",
       "      <th>chain</th>\n",
       "      <th>sample_cell_id</th>\n",
       "      <th>number_chains</th>\n",
       "      <th>barcode</th>\n",
       "      <th>VDJ</th>\n",
       "    </tr>\n",
       "  </thead>\n",
       "  <tbody>\n",
       "    <tr>\n",
       "      <th>57</th>\n",
       "      <td>LDP02</td>\n",
       "      <td>Heavy</td>\n",
       "      <td>cellranger700_multi_dbbf8652dc66faa6a536508357...</td>\n",
       "      <td>1</td>\n",
       "      <td>AAACCTGAGACCGGAT-1</td>\n",
       "      <td>BCR</td>\n",
       "    </tr>\n",
       "    <tr>\n",
       "      <th>58</th>\n",
       "      <td>LDP02</td>\n",
       "      <td>Heavy</td>\n",
       "      <td>cellranger700_multi_dbbf8652dc66faa6a536508357...</td>\n",
       "      <td>1</td>\n",
       "      <td>AAACCTGAGGGAACGG-1</td>\n",
       "      <td>BCR</td>\n",
       "    </tr>\n",
       "    <tr>\n",
       "      <th>59</th>\n",
       "      <td>LDP02</td>\n",
       "      <td>Heavy</td>\n",
       "      <td>cellranger700_multi_dbbf8652dc66faa6a536508357...</td>\n",
       "      <td>1</td>\n",
       "      <td>AAACCTGCAAACGCGA-1</td>\n",
       "      <td>BCR</td>\n",
       "    </tr>\n",
       "    <tr>\n",
       "      <th>60</th>\n",
       "      <td>LDP02</td>\n",
       "      <td>Heavy</td>\n",
       "      <td>cellranger700_multi_dbbf8652dc66faa6a536508357...</td>\n",
       "      <td>1</td>\n",
       "      <td>AAACCTGCAATCTGCA-1</td>\n",
       "      <td>BCR</td>\n",
       "    </tr>\n",
       "    <tr>\n",
       "      <th>61</th>\n",
       "      <td>LDP02</td>\n",
       "      <td>Heavy</td>\n",
       "      <td>cellranger700_multi_dbbf8652dc66faa6a536508357...</td>\n",
       "      <td>1</td>\n",
       "      <td>AAACCTGGTAGAAGGA-1</td>\n",
       "      <td>BCR</td>\n",
       "    </tr>\n",
       "    <tr>\n",
       "      <th>...</th>\n",
       "      <td>...</td>\n",
       "      <td>...</td>\n",
       "      <td>...</td>\n",
       "      <td>...</td>\n",
       "      <td>...</td>\n",
       "      <td>...</td>\n",
       "    </tr>\n",
       "    <tr>\n",
       "      <th>221288</th>\n",
       "      <td>LDP69</td>\n",
       "      <td>Heavy</td>\n",
       "      <td>cellranger700_multi_47347f8bd01f6c23c63871b334...</td>\n",
       "      <td>1</td>\n",
       "      <td>TTTGTCAAGACAAGCC-1</td>\n",
       "      <td>BCR</td>\n",
       "    </tr>\n",
       "    <tr>\n",
       "      <th>221289</th>\n",
       "      <td>LDP69</td>\n",
       "      <td>Heavy</td>\n",
       "      <td>cellranger700_multi_47347f8bd01f6c23c63871b334...</td>\n",
       "      <td>1</td>\n",
       "      <td>TTTGTCAAGCTACCTA-1</td>\n",
       "      <td>BCR</td>\n",
       "    </tr>\n",
       "    <tr>\n",
       "      <th>221290</th>\n",
       "      <td>LDP69</td>\n",
       "      <td>Heavy</td>\n",
       "      <td>cellranger700_multi_47347f8bd01f6c23c63871b334...</td>\n",
       "      <td>1</td>\n",
       "      <td>TTTGTCAAGTGAAGTT-1</td>\n",
       "      <td>BCR</td>\n",
       "    </tr>\n",
       "    <tr>\n",
       "      <th>221291</th>\n",
       "      <td>LDP69</td>\n",
       "      <td>Heavy</td>\n",
       "      <td>cellranger700_multi_47347f8bd01f6c23c63871b334...</td>\n",
       "      <td>1</td>\n",
       "      <td>TTTGTCAGTACCCAAT-1</td>\n",
       "      <td>BCR</td>\n",
       "    </tr>\n",
       "    <tr>\n",
       "      <th>221292</th>\n",
       "      <td>LDP69</td>\n",
       "      <td>Heavy</td>\n",
       "      <td>cellranger700_multi_47347f8bd01f6c23c63871b334...</td>\n",
       "      <td>1</td>\n",
       "      <td>TTTGTCATCGATAGAA-1</td>\n",
       "      <td>BCR</td>\n",
       "    </tr>\n",
       "  </tbody>\n",
       "</table>\n",
       "<p>105952 rows × 6 columns</p>\n",
       "</div>"
      ],
      "text/plain": [
       "         pool  chain                                     sample_cell_id  \\\n",
       "57      LDP02  Heavy  cellranger700_multi_dbbf8652dc66faa6a536508357...   \n",
       "58      LDP02  Heavy  cellranger700_multi_dbbf8652dc66faa6a536508357...   \n",
       "59      LDP02  Heavy  cellranger700_multi_dbbf8652dc66faa6a536508357...   \n",
       "60      LDP02  Heavy  cellranger700_multi_dbbf8652dc66faa6a536508357...   \n",
       "61      LDP02  Heavy  cellranger700_multi_dbbf8652dc66faa6a536508357...   \n",
       "...       ...    ...                                                ...   \n",
       "221288  LDP69  Heavy  cellranger700_multi_47347f8bd01f6c23c63871b334...   \n",
       "221289  LDP69  Heavy  cellranger700_multi_47347f8bd01f6c23c63871b334...   \n",
       "221290  LDP69  Heavy  cellranger700_multi_47347f8bd01f6c23c63871b334...   \n",
       "221291  LDP69  Heavy  cellranger700_multi_47347f8bd01f6c23c63871b334...   \n",
       "221292  LDP69  Heavy  cellranger700_multi_47347f8bd01f6c23c63871b334...   \n",
       "\n",
       "        number_chains             barcode  VDJ  \n",
       "57                  1  AAACCTGAGACCGGAT-1  BCR  \n",
       "58                  1  AAACCTGAGGGAACGG-1  BCR  \n",
       "59                  1  AAACCTGCAAACGCGA-1  BCR  \n",
       "60                  1  AAACCTGCAATCTGCA-1  BCR  \n",
       "61                  1  AAACCTGGTAGAAGGA-1  BCR  \n",
       "...               ...                 ...  ...  \n",
       "221288              1  TTTGTCAAGACAAGCC-1  BCR  \n",
       "221289              1  TTTGTCAAGCTACCTA-1  BCR  \n",
       "221290              1  TTTGTCAAGTGAAGTT-1  BCR  \n",
       "221291              1  TTTGTCAGTACCCAAT-1  BCR  \n",
       "221292              1  TTTGTCATCGATAGAA-1  BCR  \n",
       "\n",
       "[105952 rows x 6 columns]"
      ]
     },
     "execution_count": 40,
     "metadata": {},
     "output_type": "execute_result"
    }
   ],
   "source": [
    "has_single_bcr = has_single_bcr.drop(\"BCR_doublet\",  axis =1)\n",
    "has_single_bcr"
   ]
  },
  {
   "cell_type": "code",
   "execution_count": 41,
   "id": "5652bb17",
   "metadata": {},
   "outputs": [],
   "source": [
    "has_single_bcr_tcr = pd.concat([has_single_bcr, has_single_tcr])"
   ]
  },
  {
   "cell_type": "code",
   "execution_count": 42,
   "id": "64aa98ad",
   "metadata": {},
   "outputs": [],
   "source": [
    "has_single_bcr_or_tcr = has_single_bcr_tcr.copy()\n",
    "\n",
    "has_single_bcr_or_tcr = has_single_bcr_or_tcr[~has_single_bcr_or_tcr.sample_cell_id.isin(list(set(has_trb) & set(has_igh)))]"
   ]
  },
  {
   "cell_type": "code",
   "execution_count": 43,
   "id": "48e11cb8",
   "metadata": {},
   "outputs": [],
   "source": [
    "has_single_bcr_or_tcr.to_csv(\"/lustre/scratch126/opentargets/opentargets/OTAR2064/working/users/cs54/final_data/2_BCR_TCR/1_IgBLAST_assignment/has_tcr_bcr_barcodes.csv\", index = False)"
   ]
  },
  {
   "cell_type": "code",
   "execution_count": 72,
   "id": "b1b046fe",
   "metadata": {},
   "outputs": [],
   "source": [
    "check_a = list(has_single_bcr_or_tcr.sample_cell_id)"
   ]
  },
  {
   "cell_type": "code",
   "execution_count": 73,
   "id": "3f7f9a50",
   "metadata": {},
   "outputs": [],
   "source": [
    "check_b = list(tcr_bcr_doublet.sample_cell_id)"
   ]
  },
  {
   "cell_type": "code",
   "execution_count": 74,
   "id": "9bd7df1c",
   "metadata": {},
   "outputs": [
    {
     "data": {
      "text/plain": [
       "0"
      ]
     },
     "execution_count": 74,
     "metadata": {},
     "output_type": "execute_result"
    }
   ],
   "source": [
    "len(list(set(check_a) & set(check_b)))"
   ]
  },
  {
   "cell_type": "markdown",
   "id": "c29687af",
   "metadata": {},
   "source": [
    "# Get single heavy BCR chain info for simple annotation"
   ]
  },
  {
   "cell_type": "code",
   "execution_count": 44,
   "id": "b17af99f",
   "metadata": {},
   "outputs": [],
   "source": [
    "has_single_bcr_barcode = has_single_bcr_or_tcr.query(\"VDJ == 'BCR'\")['sample_cell_id'].copy()"
   ]
  },
  {
   "cell_type": "code",
   "execution_count": 45,
   "id": "1f65f8c8",
   "metadata": {},
   "outputs": [],
   "source": [
    "bcr_df_heavy_single_bcr  = bcr_df.query(\"(sample_cell_id in @has_single_bcr_barcode) & (locus == 'IGH')\").copy()\n",
    "bcr_df_heavy_single_bcr[\"sample\"] = bcr_df_heavy_single_bcr[\"sample_cell_id\"].str.rsplit(\"_\", n=1).str[0]\n",
    "bcr_df_heavy_single_bcr[\"barcode\"] = bcr_df_heavy_single_bcr[\"sample_cell_id\"].str.rsplit(\"_\", n=1).str[1]"
   ]
  },
  {
   "cell_type": "code",
   "execution_count": 48,
   "id": "c1c49ba2",
   "metadata": {},
   "outputs": [],
   "source": [
    "bcr_df_heavy_single_bcr = bcr_df_heavy_single_bcr.dropna(subset = [\"sequence_alignment\", \"germline_alignment\"]).copy()\n",
    "\n",
    "\n",
    "bcr_df_heavy_single_bcr['mut_freq_v'] = bcr_df_heavy_single_bcr.apply(lambda row : get_mut_freq_v(row['sequence_alignment'],\n",
    "                 row['germline_alignment']), axis = 1)"
   ]
  },
  {
   "cell_type": "code",
   "execution_count": 49,
   "id": "4c6ba485",
   "metadata": {},
   "outputs": [],
   "source": [
    "bcr_df_heavy_single_bcr.to_csv(\"/lustre/scratch126/opentargets/opentargets/OTAR2064/working/users/cs54/final_data/2_BCR_TCR/1_IgBLAST_assignment/bcr_df_heavy_single_bcr.csv\", index = False)"
   ]
  }
 ],
 "metadata": {
  "kernelspec": {
   "display_name": "general-venv",
   "language": "python",
   "name": "general-venv"
  },
  "language_info": {
   "codemirror_mode": {
    "name": "ipython",
    "version": 3
   },
   "file_extension": ".py",
   "mimetype": "text/x-python",
   "name": "python",
   "nbconvert_exporter": "python",
   "pygments_lexer": "ipython3",
   "version": "3.11.2"
  },
  "toc": {
   "base_numbering": 1,
   "nav_menu": {},
   "number_sections": true,
   "sideBar": true,
   "skip_h1_title": false,
   "title_cell": "Table of Contents",
   "title_sidebar": "Contents",
   "toc_cell": false,
   "toc_position": {},
   "toc_section_display": true,
   "toc_window_display": false
  }
 },
 "nbformat": 4,
 "nbformat_minor": 5
}
