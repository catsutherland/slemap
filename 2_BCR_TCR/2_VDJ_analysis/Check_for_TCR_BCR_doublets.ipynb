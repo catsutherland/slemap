{
 "cells": [
  {
   "cell_type": "markdown",
   "id": "9965505b-5e38-46f8-b8b9-2b3b45298042",
   "metadata": {},
   "source": [
    "# Import packages and setup"
   ]
  },
  {
   "cell_type": "code",
   "execution_count": 1,
   "id": "6afc5be3-188c-4afd-998e-ffe9f33f9090",
   "metadata": {},
   "outputs": [],
   "source": [
    "%matplotlib inline\n",
    "import os\n",
    "import matplotlib as mpl\n",
    "import matplotlib.pyplot as plt\n",
    "import seaborn as sns\n",
    "import pandas as pd\n",
    "import numpy as np\n",
    "\n",
    "pd.set_option('display.max_columns', None)\n",
    "pd.set_option('display.max_rows', 400)"
   ]
  },
  {
   "cell_type": "markdown",
   "id": "5e66fc9e-3fc9-4fb6-9249-23d0361a48e0",
   "metadata": {},
   "source": [
    "# Read in IgBLAST BCR data"
   ]
  },
  {
   "cell_type": "code",
   "execution_count": 2,
   "id": "800ed208-d69f-4abc-8b0b-c1fcb14dfd2d",
   "metadata": {},
   "outputs": [],
   "source": [
    "source_folder = \"/lustre/scratch126/opentargets/opentargets/OTAR2064/working/users/cs54/final_data/2_BCR_TCR/1_IgBLAST_assignment/IgBLAST_output_BCR\"\n",
    "\n",
    "file_list = [x for x in os.listdir(f'{source_folder}') if x.endswith('pass.tsv')]\n",
    "\n",
    "file_dfs = []\n",
    "\n",
    "for file in file_list:    \n",
    "    file_df = pd.read_csv(f'{source_folder}/{file}', sep='\\t')\n",
    "    file_df['pool'] =  file.split(\"_\")[0]\n",
    "    file_dfs.append(file_df)\n",
    "    \n",
    "bcr_df = pd.concat(file_dfs)\n"
   ]
  },
  {
   "cell_type": "code",
   "execution_count": 3,
   "id": "af196164-fe41-4690-8b23-25cc46d8467b",
   "metadata": {},
   "outputs": [
    {
     "data": {
      "text/plain": [
       "68"
      ]
     },
     "execution_count": 3,
     "metadata": {},
     "output_type": "execute_result"
    }
   ],
   "source": [
    "bcr_df.pool.nunique()"
   ]
  },
  {
   "cell_type": "code",
   "execution_count": 4,
   "id": "d9ccc24c-5c70-42d1-b274-2845f73b62dd",
   "metadata": {},
   "outputs": [
    {
     "data": {
      "text/plain": [
       "229108"
      ]
     },
     "execution_count": 4,
     "metadata": {},
     "output_type": "execute_result"
    }
   ],
   "source": [
    "len(bcr_df)"
   ]
  },
  {
   "cell_type": "markdown",
   "id": "7db8e7f3-78fe-4ff4-a0c1-a037000d83b8",
   "metadata": {},
   "source": [
    "# Read in sample, pool and batch info"
   ]
  },
  {
   "cell_type": "code",
   "execution_count": 5,
   "id": "aa23456f-f0cc-4289-be05-07df9c5a4784",
   "metadata": {},
   "outputs": [],
   "source": [
    "batch_info = pd.read_csv(\"/lustre/scratch126/opentargets/opentargets/OTAR2064/working/users/cs54/final_data/1_Metadata/slemap_cellranger_to_pool.txt\", sep = \"\\t\", header = None)\n",
    "batch_info.columns = [\"sample\", \"pool\", \"scSeq_batch\"]"
   ]
  },
  {
   "cell_type": "code",
   "execution_count": 6,
   "id": "e13f2902",
   "metadata": {},
   "outputs": [],
   "source": [
    "bcr_df = pd.merge(bcr_df, batch_info)"
   ]
  },
  {
   "cell_type": "code",
   "execution_count": 7,
   "id": "7a02525e",
   "metadata": {},
   "outputs": [],
   "source": [
    "bcr_df[\"contig\"] = bcr_df[\"sequence_id\"].str.split(\"_\", n = 1).str[1]\n",
    "bcr_df[\"chain\"] = np.where(bcr_df['locus'].str.contains('IGH'), \"Heavy\" , \"Light\")\n",
    "bcr_df[\"sample_cell_id\"] = bcr_df[\"sample\"] + \"_\" + bcr_df[\"cell_id\"]"
   ]
  },
  {
   "cell_type": "code",
   "execution_count": 8,
   "id": "e7e1d5e0",
   "metadata": {},
   "outputs": [],
   "source": [
    "chain_counts_bcr = bcr_df.groupby(['pool','chain'])['sample_cell_id'].agg(number_chains = \"value_counts\").reset_index()\n",
    "chain_counts_heavy = chain_counts_bcr.query(\"chain == 'Heavy'\").copy()"
   ]
  },
  {
   "cell_type": "code",
   "execution_count": 9,
   "id": "4c1ed670",
   "metadata": {},
   "outputs": [],
   "source": [
    "chain_counts_heavy[\"BCR_doublet\"] = np.where(chain_counts_heavy['number_chains'] == 1, \"No\" , \"Yes\")"
   ]
  },
  {
   "cell_type": "code",
   "execution_count": 10,
   "id": "e7fc5ac9",
   "metadata": {},
   "outputs": [
    {
     "data": {
      "text/html": [
       "<div>\n",
       "<style scoped>\n",
       "    .dataframe tbody tr th:only-of-type {\n",
       "        vertical-align: middle;\n",
       "    }\n",
       "\n",
       "    .dataframe tbody tr th {\n",
       "        vertical-align: top;\n",
       "    }\n",
       "\n",
       "    .dataframe thead th {\n",
       "        text-align: right;\n",
       "    }\n",
       "</style>\n",
       "<table border=\"1\" class=\"dataframe\">\n",
       "  <thead>\n",
       "    <tr style=\"text-align: right;\">\n",
       "      <th></th>\n",
       "      <th>sample_cell_id</th>\n",
       "      <th>pool</th>\n",
       "      <th>BCR_doublet</th>\n",
       "    </tr>\n",
       "  </thead>\n",
       "  <tbody>\n",
       "    <tr>\n",
       "      <th>0</th>\n",
       "      <td>cellranger700_multi_dbbf8652dc66faa6a536508357...</td>\n",
       "      <td>LDP02</td>\n",
       "      <td>Yes</td>\n",
       "    </tr>\n",
       "    <tr>\n",
       "      <th>1</th>\n",
       "      <td>cellranger700_multi_dbbf8652dc66faa6a536508357...</td>\n",
       "      <td>LDP02</td>\n",
       "      <td>Yes</td>\n",
       "    </tr>\n",
       "    <tr>\n",
       "      <th>2</th>\n",
       "      <td>cellranger700_multi_dbbf8652dc66faa6a536508357...</td>\n",
       "      <td>LDP02</td>\n",
       "      <td>Yes</td>\n",
       "    </tr>\n",
       "    <tr>\n",
       "      <th>3</th>\n",
       "      <td>cellranger700_multi_dbbf8652dc66faa6a536508357...</td>\n",
       "      <td>LDP02</td>\n",
       "      <td>Yes</td>\n",
       "    </tr>\n",
       "    <tr>\n",
       "      <th>4</th>\n",
       "      <td>cellranger700_multi_dbbf8652dc66faa6a536508357...</td>\n",
       "      <td>LDP02</td>\n",
       "      <td>Yes</td>\n",
       "    </tr>\n",
       "    <tr>\n",
       "      <th>...</th>\n",
       "      <td>...</td>\n",
       "      <td>...</td>\n",
       "      <td>...</td>\n",
       "    </tr>\n",
       "    <tr>\n",
       "      <th>221288</th>\n",
       "      <td>cellranger700_multi_47347f8bd01f6c23c63871b334...</td>\n",
       "      <td>LDP69</td>\n",
       "      <td>No</td>\n",
       "    </tr>\n",
       "    <tr>\n",
       "      <th>221289</th>\n",
       "      <td>cellranger700_multi_47347f8bd01f6c23c63871b334...</td>\n",
       "      <td>LDP69</td>\n",
       "      <td>No</td>\n",
       "    </tr>\n",
       "    <tr>\n",
       "      <th>221290</th>\n",
       "      <td>cellranger700_multi_47347f8bd01f6c23c63871b334...</td>\n",
       "      <td>LDP69</td>\n",
       "      <td>No</td>\n",
       "    </tr>\n",
       "    <tr>\n",
       "      <th>221291</th>\n",
       "      <td>cellranger700_multi_47347f8bd01f6c23c63871b334...</td>\n",
       "      <td>LDP69</td>\n",
       "      <td>No</td>\n",
       "    </tr>\n",
       "    <tr>\n",
       "      <th>221292</th>\n",
       "      <td>cellranger700_multi_47347f8bd01f6c23c63871b334...</td>\n",
       "      <td>LDP69</td>\n",
       "      <td>No</td>\n",
       "    </tr>\n",
       "  </tbody>\n",
       "</table>\n",
       "<p>107488 rows × 3 columns</p>\n",
       "</div>"
      ],
      "text/plain": [
       "                                           sample_cell_id   pool BCR_doublet\n",
       "0       cellranger700_multi_dbbf8652dc66faa6a536508357...  LDP02         Yes\n",
       "1       cellranger700_multi_dbbf8652dc66faa6a536508357...  LDP02         Yes\n",
       "2       cellranger700_multi_dbbf8652dc66faa6a536508357...  LDP02         Yes\n",
       "3       cellranger700_multi_dbbf8652dc66faa6a536508357...  LDP02         Yes\n",
       "4       cellranger700_multi_dbbf8652dc66faa6a536508357...  LDP02         Yes\n",
       "...                                                   ...    ...         ...\n",
       "221288  cellranger700_multi_47347f8bd01f6c23c63871b334...  LDP69          No\n",
       "221289  cellranger700_multi_47347f8bd01f6c23c63871b334...  LDP69          No\n",
       "221290  cellranger700_multi_47347f8bd01f6c23c63871b334...  LDP69          No\n",
       "221291  cellranger700_multi_47347f8bd01f6c23c63871b334...  LDP69          No\n",
       "221292  cellranger700_multi_47347f8bd01f6c23c63871b334...  LDP69          No\n",
       "\n",
       "[107488 rows x 3 columns]"
      ]
     },
     "execution_count": 10,
     "metadata": {},
     "output_type": "execute_result"
    }
   ],
   "source": [
    "chain_counts_heavy[[\"sample_cell_id\", \"pool\", \"BCR_doublet\"]]"
   ]
  },
  {
   "cell_type": "code",
   "execution_count": 11,
   "id": "ede7f7b9",
   "metadata": {},
   "outputs": [],
   "source": [
    "chain_counts_heavy[\"barcode\"] = chain_counts_heavy[\"sample_cell_id\"].str.rsplit(\"_\", n=1).str[1]\n",
    "\n",
    "chain_counts_heavy.to_csv(\"/lustre/scratch126/opentargets/opentargets/OTAR2064/working/users/cs54/final_data/2_BCR_TCR/1_IgBLAST_assignment/bcr_doublet_barcodes.csv\", index = False)"
   ]
  },
  {
   "cell_type": "code",
   "execution_count": 12,
   "id": "2c38812d",
   "metadata": {},
   "outputs": [
    {
     "data": {
      "text/plain": [
       "BCR_doublet\n",
       "No     105952\n",
       "Yes      1536\n",
       "Name: count, dtype: int64"
      ]
     },
     "execution_count": 12,
     "metadata": {},
     "output_type": "execute_result"
    }
   ],
   "source": [
    "chain_counts_heavy.BCR_doublet.value_counts()"
   ]
  },
  {
   "cell_type": "markdown",
   "id": "b6bebbbd",
   "metadata": {},
   "source": [
    "# Read in IgBLAST TCR data"
   ]
  },
  {
   "cell_type": "code",
   "execution_count": 13,
   "id": "8cf9cdf9",
   "metadata": {},
   "outputs": [],
   "source": [
    "source_folder = \"/lustre/scratch126/opentargets/opentargets/OTAR2064/working/users/cs54/final_data/2_BCR_TCR/1_IgBLAST_assignment/IgBLAST_output_TCR\"\n",
    "\n",
    "file_list = [x for x in os.listdir(f'{source_folder}') if x.endswith('pass.tsv')]\n",
    "\n",
    "file_dfs = []\n",
    "\n",
    "for file in file_list:    \n",
    "    file_df = pd.read_csv(f'{source_folder}/{file}', sep='\\t')\n",
    "    file_df['pool'] =  file.split(\"_\")[0]\n",
    "    file_dfs.append(file_df)\n",
    "    \n",
    "tcr_df = pd.concat(file_dfs)\n"
   ]
  },
  {
   "cell_type": "code",
   "execution_count": 14,
   "id": "f278634d",
   "metadata": {},
   "outputs": [
    {
     "data": {
      "text/plain": [
       "69"
      ]
     },
     "execution_count": 14,
     "metadata": {},
     "output_type": "execute_result"
    }
   ],
   "source": [
    "tcr_df.pool.nunique()"
   ]
  },
  {
   "cell_type": "code",
   "execution_count": 15,
   "id": "e7473574",
   "metadata": {},
   "outputs": [
    {
     "data": {
      "text/plain": [
       "1177627"
      ]
     },
     "execution_count": 15,
     "metadata": {},
     "output_type": "execute_result"
    }
   ],
   "source": [
    "len(tcr_df)"
   ]
  },
  {
   "cell_type": "markdown",
   "id": "99311a04",
   "metadata": {},
   "source": [
    "# Read in sample, pool and batch info"
   ]
  },
  {
   "cell_type": "code",
   "execution_count": 16,
   "id": "fd9f17fd",
   "metadata": {},
   "outputs": [],
   "source": [
    "tcr_df = pd.merge(tcr_df, batch_info)"
   ]
  },
  {
   "cell_type": "code",
   "execution_count": 17,
   "id": "32b50658",
   "metadata": {},
   "outputs": [],
   "source": [
    "tcr_df[\"contig\"] = tcr_df[\"sequence_id\"].str.split(\"_\", n = 1).str[1]\n",
    "tcr_df[\"chain\"] = np.where(tcr_df['locus'].str.contains('TRB'), \"Beta\" , \"Alpha\")\n",
    "tcr_df[\"sample_cell_id\"] = tcr_df[\"sample\"] + \"_\" + tcr_df[\"cell_id\"]"
   ]
  },
  {
   "cell_type": "code",
   "execution_count": 18,
   "id": "79afed6e",
   "metadata": {},
   "outputs": [
    {
     "data": {
      "text/plain": [
       "locus\n",
       "TRB    629316\n",
       "TRA    548311\n",
       "Name: count, dtype: int64"
      ]
     },
     "execution_count": 18,
     "metadata": {},
     "output_type": "execute_result"
    }
   ],
   "source": [
    "tcr_df.locus.value_counts()"
   ]
  },
  {
   "cell_type": "code",
   "execution_count": 19,
   "id": "a599235b",
   "metadata": {},
   "outputs": [
    {
     "data": {
      "text/plain": [
       "chain\n",
       "Beta     629316\n",
       "Alpha    548311\n",
       "Name: count, dtype: int64"
      ]
     },
     "execution_count": 19,
     "metadata": {},
     "output_type": "execute_result"
    }
   ],
   "source": [
    "tcr_df.chain.value_counts()"
   ]
  },
  {
   "cell_type": "code",
   "execution_count": 20,
   "id": "479187f2",
   "metadata": {},
   "outputs": [],
   "source": [
    "chain_counts_tcr = tcr_df.groupby(['pool', 'chain'])['sample_cell_id'].agg(number_chains = \"value_counts\").reset_index()\n",
    "chain_counts_beta = chain_counts_tcr.query(\"chain == 'Beta'\").copy()"
   ]
  },
  {
   "cell_type": "code",
   "execution_count": 21,
   "id": "bee36279",
   "metadata": {},
   "outputs": [],
   "source": [
    "chain_counts_beta[\"tcr_doublet\"] = np.where(chain_counts_beta['number_chains'] == 1, \"No\" , \"Yes\")"
   ]
  },
  {
   "cell_type": "code",
   "execution_count": 22,
   "id": "b32ad673",
   "metadata": {},
   "outputs": [
    {
     "data": {
      "text/html": [
       "<div>\n",
       "<style scoped>\n",
       "    .dataframe tbody tr th:only-of-type {\n",
       "        vertical-align: middle;\n",
       "    }\n",
       "\n",
       "    .dataframe tbody tr th {\n",
       "        vertical-align: top;\n",
       "    }\n",
       "\n",
       "    .dataframe thead th {\n",
       "        text-align: right;\n",
       "    }\n",
       "</style>\n",
       "<table border=\"1\" class=\"dataframe\">\n",
       "  <thead>\n",
       "    <tr style=\"text-align: right;\">\n",
       "      <th></th>\n",
       "      <th>sample_cell_id</th>\n",
       "      <th>pool</th>\n",
       "      <th>tcr_doublet</th>\n",
       "    </tr>\n",
       "  </thead>\n",
       "  <tbody>\n",
       "    <tr>\n",
       "      <th>2708</th>\n",
       "      <td>cellranger700_multi_21212877c397b6975eaf35c723...</td>\n",
       "      <td>LDP01</td>\n",
       "      <td>Yes</td>\n",
       "    </tr>\n",
       "    <tr>\n",
       "      <th>2709</th>\n",
       "      <td>cellranger700_multi_21212877c397b6975eaf35c723...</td>\n",
       "      <td>LDP01</td>\n",
       "      <td>Yes</td>\n",
       "    </tr>\n",
       "    <tr>\n",
       "      <th>2710</th>\n",
       "      <td>cellranger700_multi_21212877c397b6975eaf35c723...</td>\n",
       "      <td>LDP01</td>\n",
       "      <td>Yes</td>\n",
       "    </tr>\n",
       "    <tr>\n",
       "      <th>2711</th>\n",
       "      <td>cellranger700_multi_21212877c397b6975eaf35c723...</td>\n",
       "      <td>LDP01</td>\n",
       "      <td>Yes</td>\n",
       "    </tr>\n",
       "    <tr>\n",
       "      <th>2712</th>\n",
       "      <td>cellranger700_multi_21212877c397b6975eaf35c723...</td>\n",
       "      <td>LDP01</td>\n",
       "      <td>Yes</td>\n",
       "    </tr>\n",
       "    <tr>\n",
       "      <th>...</th>\n",
       "      <td>...</td>\n",
       "      <td>...</td>\n",
       "      <td>...</td>\n",
       "    </tr>\n",
       "    <tr>\n",
       "      <th>1091760</th>\n",
       "      <td>cellranger700_multi_47347f8bd01f6c23c63871b334...</td>\n",
       "      <td>LDP69</td>\n",
       "      <td>No</td>\n",
       "    </tr>\n",
       "    <tr>\n",
       "      <th>1091761</th>\n",
       "      <td>cellranger700_multi_47347f8bd01f6c23c63871b334...</td>\n",
       "      <td>LDP69</td>\n",
       "      <td>No</td>\n",
       "    </tr>\n",
       "    <tr>\n",
       "      <th>1091762</th>\n",
       "      <td>cellranger700_multi_47347f8bd01f6c23c63871b334...</td>\n",
       "      <td>LDP69</td>\n",
       "      <td>No</td>\n",
       "    </tr>\n",
       "    <tr>\n",
       "      <th>1091763</th>\n",
       "      <td>cellranger700_multi_47347f8bd01f6c23c63871b334...</td>\n",
       "      <td>LDP69</td>\n",
       "      <td>No</td>\n",
       "    </tr>\n",
       "    <tr>\n",
       "      <th>1091764</th>\n",
       "      <td>cellranger700_multi_47347f8bd01f6c23c63871b334...</td>\n",
       "      <td>LDP69</td>\n",
       "      <td>No</td>\n",
       "    </tr>\n",
       "  </tbody>\n",
       "</table>\n",
       "<p>594647 rows × 3 columns</p>\n",
       "</div>"
      ],
      "text/plain": [
       "                                            sample_cell_id   pool tcr_doublet\n",
       "2708     cellranger700_multi_21212877c397b6975eaf35c723...  LDP01         Yes\n",
       "2709     cellranger700_multi_21212877c397b6975eaf35c723...  LDP01         Yes\n",
       "2710     cellranger700_multi_21212877c397b6975eaf35c723...  LDP01         Yes\n",
       "2711     cellranger700_multi_21212877c397b6975eaf35c723...  LDP01         Yes\n",
       "2712     cellranger700_multi_21212877c397b6975eaf35c723...  LDP01         Yes\n",
       "...                                                    ...    ...         ...\n",
       "1091760  cellranger700_multi_47347f8bd01f6c23c63871b334...  LDP69          No\n",
       "1091761  cellranger700_multi_47347f8bd01f6c23c63871b334...  LDP69          No\n",
       "1091762  cellranger700_multi_47347f8bd01f6c23c63871b334...  LDP69          No\n",
       "1091763  cellranger700_multi_47347f8bd01f6c23c63871b334...  LDP69          No\n",
       "1091764  cellranger700_multi_47347f8bd01f6c23c63871b334...  LDP69          No\n",
       "\n",
       "[594647 rows x 3 columns]"
      ]
     },
     "execution_count": 22,
     "metadata": {},
     "output_type": "execute_result"
    }
   ],
   "source": [
    "chain_counts_beta[[\"sample_cell_id\", \"pool\", \"tcr_doublet\"]]"
   ]
  },
  {
   "cell_type": "code",
   "execution_count": 23,
   "id": "f5225ee0",
   "metadata": {},
   "outputs": [
    {
     "data": {
      "text/plain": [
       "tcr_doublet\n",
       "No     559978\n",
       "Yes     34669\n",
       "Name: count, dtype: int64"
      ]
     },
     "execution_count": 23,
     "metadata": {},
     "output_type": "execute_result"
    }
   ],
   "source": [
    "chain_counts_beta.tcr_doublet.value_counts()"
   ]
  },
  {
   "cell_type": "code",
   "execution_count": 24,
   "id": "12276827",
   "metadata": {},
   "outputs": [],
   "source": [
    "chain_counts_beta[\"barcode\"] = chain_counts_beta[\"sample_cell_id\"].str.rsplit(\"_\", n=1).str[1]"
   ]
  },
  {
   "cell_type": "code",
   "execution_count": 25,
   "id": "e1572f6b",
   "metadata": {},
   "outputs": [],
   "source": [
    "chain_counts_beta.to_csv(\"/lustre/scratch126/opentargets/opentargets/OTAR2064/working/users/cs54/final_data/2_BCR_TCR/1_IgBLAST_assignment/tcr_doublet_barcodes.csv\", index = False)"
   ]
  },
  {
   "cell_type": "code",
   "execution_count": 26,
   "id": "37034dfb",
   "metadata": {},
   "outputs": [],
   "source": [
    "has_trb = list(chain_counts_beta.sample_cell_id)"
   ]
  },
  {
   "cell_type": "code",
   "execution_count": 27,
   "id": "95bf9a8d",
   "metadata": {},
   "outputs": [],
   "source": [
    "has_igh = list(chain_counts_heavy.sample_cell_id)"
   ]
  },
  {
   "cell_type": "code",
   "execution_count": 28,
   "id": "2ee24d13",
   "metadata": {},
   "outputs": [
    {
     "data": {
      "text/plain": [
       "15262"
      ]
     },
     "execution_count": 28,
     "metadata": {},
     "output_type": "execute_result"
    }
   ],
   "source": [
    "len(list(set(has_trb) & set(has_igh)))"
   ]
  },
  {
   "cell_type": "code",
   "execution_count": 29,
   "id": "2efd9c82",
   "metadata": {},
   "outputs": [],
   "source": [
    "tcr_bcr_doublet = pd.DataFrame(list(set(has_trb) & set(has_igh)))"
   ]
  },
  {
   "cell_type": "code",
   "execution_count": 30,
   "id": "c02a0a45",
   "metadata": {},
   "outputs": [],
   "source": [
    "tcr_bcr_doublet = tcr_bcr_doublet.rename({0:\"sample_cell_id\"}, axis = 1)"
   ]
  },
  {
   "cell_type": "code",
   "execution_count": 31,
   "id": "d8a4a851",
   "metadata": {},
   "outputs": [],
   "source": [
    "tcr_bcr_doublet[\"sample\"] = tcr_bcr_doublet[\"sample_cell_id\"].str.rsplit(\"_\", n=1).str[0]\n",
    "tcr_bcr_doublet[\"barcode\"] = tcr_bcr_doublet[\"sample_cell_id\"].str.rsplit(\"_\", n=1).str[1]"
   ]
  },
  {
   "cell_type": "code",
   "execution_count": 32,
   "id": "c22af89f",
   "metadata": {},
   "outputs": [],
   "source": [
    "tcr_bcr_doublet = pd.merge(tcr_bcr_doublet, batch_info)"
   ]
  },
  {
   "cell_type": "code",
   "execution_count": 33,
   "id": "2fc21051",
   "metadata": {},
   "outputs": [],
   "source": [
    "tcr_bcr_doublet.to_csv(\"/lustre/scratch126/opentargets/opentargets/OTAR2064/working/users/cs54/final_data/2_BCR_TCR/1_IgBLAST_assignment/tcr_bcr_doublet_barcodes.csv\", index = False)"
   ]
  },
  {
   "cell_type": "code",
   "execution_count": 34,
   "id": "4954586b",
   "metadata": {},
   "outputs": [
    {
     "data": {
      "text/html": [
       "<div>\n",
       "<style scoped>\n",
       "    .dataframe tbody tr th:only-of-type {\n",
       "        vertical-align: middle;\n",
       "    }\n",
       "\n",
       "    .dataframe tbody tr th {\n",
       "        vertical-align: top;\n",
       "    }\n",
       "\n",
       "    .dataframe thead th {\n",
       "        text-align: right;\n",
       "    }\n",
       "</style>\n",
       "<table border=\"1\" class=\"dataframe\">\n",
       "  <thead>\n",
       "    <tr style=\"text-align: right;\">\n",
       "      <th></th>\n",
       "      <th>sample_cell_id</th>\n",
       "      <th>sample</th>\n",
       "      <th>barcode</th>\n",
       "      <th>pool</th>\n",
       "      <th>scSeq_batch</th>\n",
       "    </tr>\n",
       "  </thead>\n",
       "  <tbody>\n",
       "    <tr>\n",
       "      <th>0</th>\n",
       "      <td>cellranger700_multi_e6491bbae1405a9f6c7f93c2fb...</td>\n",
       "      <td>cellranger700_multi_e6491bbae1405a9f6c7f93c2fb...</td>\n",
       "      <td>TGGCCAGAGGTCATCT-1</td>\n",
       "      <td>LDP39</td>\n",
       "      <td>6</td>\n",
       "    </tr>\n",
       "    <tr>\n",
       "      <th>1</th>\n",
       "      <td>cellranger700_multi_b23b7edb25e76f2a7c2d8665e1...</td>\n",
       "      <td>cellranger700_multi_b23b7edb25e76f2a7c2d8665e1...</td>\n",
       "      <td>TTAACTCAGCGTGTCC-1</td>\n",
       "      <td>LDP35</td>\n",
       "      <td>6</td>\n",
       "    </tr>\n",
       "    <tr>\n",
       "      <th>2</th>\n",
       "      <td>cellranger700_multi_45469_SLE_map12928664_and_...</td>\n",
       "      <td>cellranger700_multi_45469_SLE_map12928664_and_...</td>\n",
       "      <td>TGAGGGAGTTAAGAAC-1</td>\n",
       "      <td>LDP10</td>\n",
       "      <td>2</td>\n",
       "    </tr>\n",
       "    <tr>\n",
       "      <th>3</th>\n",
       "      <td>cellranger700_multi_7c15960418bdf52c2de92caec2...</td>\n",
       "      <td>cellranger700_multi_7c15960418bdf52c2de92caec2...</td>\n",
       "      <td>ACTTTCAAGATTACCC-1</td>\n",
       "      <td>LDP60</td>\n",
       "      <td>9</td>\n",
       "    </tr>\n",
       "    <tr>\n",
       "      <th>4</th>\n",
       "      <td>cellranger700_multi_1ed40ccf3d8f2014f59925d3ff...</td>\n",
       "      <td>cellranger700_multi_1ed40ccf3d8f2014f59925d3ff...</td>\n",
       "      <td>CGATGGCAGGAATTAC-1</td>\n",
       "      <td>LDP41</td>\n",
       "      <td>6</td>\n",
       "    </tr>\n",
       "    <tr>\n",
       "      <th>...</th>\n",
       "      <td>...</td>\n",
       "      <td>...</td>\n",
       "      <td>...</td>\n",
       "      <td>...</td>\n",
       "      <td>...</td>\n",
       "    </tr>\n",
       "    <tr>\n",
       "      <th>15257</th>\n",
       "      <td>cellranger700_multi_7fbaf95e765fb929dedd7e0f93...</td>\n",
       "      <td>cellranger700_multi_7fbaf95e765fb929dedd7e0f93...</td>\n",
       "      <td>GGACAAGCACGTAAGG-1</td>\n",
       "      <td>LDP24</td>\n",
       "      <td>4</td>\n",
       "    </tr>\n",
       "    <tr>\n",
       "      <th>15258</th>\n",
       "      <td>cellranger700_multi_210f420afdef510e028f5b16a8...</td>\n",
       "      <td>cellranger700_multi_210f420afdef510e028f5b16a8...</td>\n",
       "      <td>CTCGAAACACTGAAGG-1</td>\n",
       "      <td>LDP26</td>\n",
       "      <td>5</td>\n",
       "    </tr>\n",
       "    <tr>\n",
       "      <th>15259</th>\n",
       "      <td>cellranger700_multi_fa31044dd699a5ba7bbceefb16...</td>\n",
       "      <td>cellranger700_multi_fa31044dd699a5ba7bbceefb16...</td>\n",
       "      <td>GTTTCTACAGGACCCT-1</td>\n",
       "      <td>LDP53</td>\n",
       "      <td>8</td>\n",
       "    </tr>\n",
       "    <tr>\n",
       "      <th>15260</th>\n",
       "      <td>cellranger700_multi_9fae3f5f9f97ac0265c62429f8...</td>\n",
       "      <td>cellranger700_multi_9fae3f5f9f97ac0265c62429f8...</td>\n",
       "      <td>ATTGGACGTTGTTTGG-1</td>\n",
       "      <td>LDP38</td>\n",
       "      <td>6</td>\n",
       "    </tr>\n",
       "    <tr>\n",
       "      <th>15261</th>\n",
       "      <td>cellranger700_multi_e0b0dbb966d0c07fba9ee7428c...</td>\n",
       "      <td>cellranger700_multi_e0b0dbb966d0c07fba9ee7428c...</td>\n",
       "      <td>ACGTCAATCCGATATG-1</td>\n",
       "      <td>LDP62</td>\n",
       "      <td>9</td>\n",
       "    </tr>\n",
       "  </tbody>\n",
       "</table>\n",
       "<p>15262 rows × 5 columns</p>\n",
       "</div>"
      ],
      "text/plain": [
       "                                          sample_cell_id  \\\n",
       "0      cellranger700_multi_e6491bbae1405a9f6c7f93c2fb...   \n",
       "1      cellranger700_multi_b23b7edb25e76f2a7c2d8665e1...   \n",
       "2      cellranger700_multi_45469_SLE_map12928664_and_...   \n",
       "3      cellranger700_multi_7c15960418bdf52c2de92caec2...   \n",
       "4      cellranger700_multi_1ed40ccf3d8f2014f59925d3ff...   \n",
       "...                                                  ...   \n",
       "15257  cellranger700_multi_7fbaf95e765fb929dedd7e0f93...   \n",
       "15258  cellranger700_multi_210f420afdef510e028f5b16a8...   \n",
       "15259  cellranger700_multi_fa31044dd699a5ba7bbceefb16...   \n",
       "15260  cellranger700_multi_9fae3f5f9f97ac0265c62429f8...   \n",
       "15261  cellranger700_multi_e0b0dbb966d0c07fba9ee7428c...   \n",
       "\n",
       "                                                  sample             barcode  \\\n",
       "0      cellranger700_multi_e6491bbae1405a9f6c7f93c2fb...  TGGCCAGAGGTCATCT-1   \n",
       "1      cellranger700_multi_b23b7edb25e76f2a7c2d8665e1...  TTAACTCAGCGTGTCC-1   \n",
       "2      cellranger700_multi_45469_SLE_map12928664_and_...  TGAGGGAGTTAAGAAC-1   \n",
       "3      cellranger700_multi_7c15960418bdf52c2de92caec2...  ACTTTCAAGATTACCC-1   \n",
       "4      cellranger700_multi_1ed40ccf3d8f2014f59925d3ff...  CGATGGCAGGAATTAC-1   \n",
       "...                                                  ...                 ...   \n",
       "15257  cellranger700_multi_7fbaf95e765fb929dedd7e0f93...  GGACAAGCACGTAAGG-1   \n",
       "15258  cellranger700_multi_210f420afdef510e028f5b16a8...  CTCGAAACACTGAAGG-1   \n",
       "15259  cellranger700_multi_fa31044dd699a5ba7bbceefb16...  GTTTCTACAGGACCCT-1   \n",
       "15260  cellranger700_multi_9fae3f5f9f97ac0265c62429f8...  ATTGGACGTTGTTTGG-1   \n",
       "15261  cellranger700_multi_e0b0dbb966d0c07fba9ee7428c...  ACGTCAATCCGATATG-1   \n",
       "\n",
       "        pool  scSeq_batch  \n",
       "0      LDP39            6  \n",
       "1      LDP35            6  \n",
       "2      LDP10            2  \n",
       "3      LDP60            9  \n",
       "4      LDP41            6  \n",
       "...      ...          ...  \n",
       "15257  LDP24            4  \n",
       "15258  LDP26            5  \n",
       "15259  LDP53            8  \n",
       "15260  LDP38            6  \n",
       "15261  LDP62            9  \n",
       "\n",
       "[15262 rows x 5 columns]"
      ]
     },
     "execution_count": 34,
     "metadata": {},
     "output_type": "execute_result"
    }
   ],
   "source": [
    "tcr_bcr_doublet"
   ]
  },
  {
   "cell_type": "code",
   "execution_count": null,
   "id": "d3531290",
   "metadata": {},
   "outputs": [],
   "source": []
  }
 ],
 "metadata": {
  "kernelspec": {
   "display_name": "general-venv",
   "language": "python",
   "name": "general-venv"
  },
  "language_info": {
   "codemirror_mode": {
    "name": "ipython",
    "version": 3
   },
   "file_extension": ".py",
   "mimetype": "text/x-python",
   "name": "python",
   "nbconvert_exporter": "python",
   "pygments_lexer": "ipython3",
   "version": "3.11.2"
  },
  "toc": {
   "base_numbering": 1,
   "nav_menu": {},
   "number_sections": true,
   "sideBar": true,
   "skip_h1_title": false,
   "title_cell": "Table of Contents",
   "title_sidebar": "Contents",
   "toc_cell": false,
   "toc_position": {},
   "toc_section_display": true,
   "toc_window_display": false
  }
 },
 "nbformat": 4,
 "nbformat_minor": 5
}
